{
  "nbformat": 4,
  "nbformat_minor": 0,
  "metadata": {
    "kernelspec": {
      "display_name": "Python 3",
      "language": "python",
      "name": "python3"
    },
    "language_info": {
      "codemirror_mode": {
        "name": "ipython",
        "version": 3
      },
      "file_extension": ".py",
      "mimetype": "text/x-python",
      "name": "python",
      "nbconvert_exporter": "python",
      "pygments_lexer": "ipython3",
      "version": "3.7.0"
    },
    "colab": {
      "name": "9th Oct 2020.ipynb",
      "provenance": []
    }
  },
  "cells": [
    {
      "cell_type": "code",
      "metadata": {
        "id": "927o39Nfu4SZ"
      },
      "source": [
        "# imports\n",
        "import pandas as pd\n",
        "import numpy as np\n",
        "import matplotlib.pyplot as plt\n",
        "import seaborn as sns\n"
      ],
      "execution_count": null,
      "outputs": []
    },
    {
      "cell_type": "code",
      "metadata": {
        "id": "4CoPVgYiu4Su",
        "outputId": "8a06e566-e43c-44ea-c5a6-16c6e30d5e5d"
      },
      "source": [
        "# read data into a DataFrame\n",
        "data = pd.read_csv(r'Advertising.csv', index_col=0,header=0)\n",
        "data.head()"
      ],
      "execution_count": null,
      "outputs": [
        {
          "output_type": "execute_result",
          "data": {
            "text/html": [
              "<div>\n",
              "<style scoped>\n",
              "    .dataframe tbody tr th:only-of-type {\n",
              "        vertical-align: middle;\n",
              "    }\n",
              "\n",
              "    .dataframe tbody tr th {\n",
              "        vertical-align: top;\n",
              "    }\n",
              "\n",
              "    .dataframe thead th {\n",
              "        text-align: right;\n",
              "    }\n",
              "</style>\n",
              "<table border=\"1\" class=\"dataframe\">\n",
              "  <thead>\n",
              "    <tr style=\"text-align: right;\">\n",
              "      <th></th>\n",
              "      <th>TV</th>\n",
              "      <th>radio</th>\n",
              "      <th>newspaper</th>\n",
              "      <th>sales</th>\n",
              "    </tr>\n",
              "  </thead>\n",
              "  <tbody>\n",
              "    <tr>\n",
              "      <th>1</th>\n",
              "      <td>230.1</td>\n",
              "      <td>37.8</td>\n",
              "      <td>69.2</td>\n",
              "      <td>22.1</td>\n",
              "    </tr>\n",
              "    <tr>\n",
              "      <th>2</th>\n",
              "      <td>44.5</td>\n",
              "      <td>39.3</td>\n",
              "      <td>45.1</td>\n",
              "      <td>10.4</td>\n",
              "    </tr>\n",
              "    <tr>\n",
              "      <th>3</th>\n",
              "      <td>17.2</td>\n",
              "      <td>45.9</td>\n",
              "      <td>69.3</td>\n",
              "      <td>9.3</td>\n",
              "    </tr>\n",
              "    <tr>\n",
              "      <th>4</th>\n",
              "      <td>151.5</td>\n",
              "      <td>41.3</td>\n",
              "      <td>58.5</td>\n",
              "      <td>18.5</td>\n",
              "    </tr>\n",
              "    <tr>\n",
              "      <th>5</th>\n",
              "      <td>180.8</td>\n",
              "      <td>10.8</td>\n",
              "      <td>58.4</td>\n",
              "      <td>12.9</td>\n",
              "    </tr>\n",
              "  </tbody>\n",
              "</table>\n",
              "</div>"
            ],
            "text/plain": [
              "      TV  radio  newspaper  sales\n",
              "1  230.1   37.8       69.2   22.1\n",
              "2   44.5   39.3       45.1   10.4\n",
              "3   17.2   45.9       69.3    9.3\n",
              "4  151.5   41.3       58.5   18.5\n",
              "5  180.8   10.8       58.4   12.9"
            ]
          },
          "metadata": {
            "tags": []
          },
          "execution_count": 2
        }
      ]
    },
    {
      "cell_type": "code",
      "metadata": {
        "scrolled": false,
        "id": "vcXqt5LEu4Sz",
        "outputId": "91870a2d-4b5f-4490-8ce6-64315449f368"
      },
      "source": [
        "print(data.dtypes)\n",
        "print(data.shape)\n",
        "print(data.describe())"
      ],
      "execution_count": null,
      "outputs": [
        {
          "output_type": "stream",
          "text": [
            "TV           float64\n",
            "radio        float64\n",
            "newspaper    float64\n",
            "sales        float64\n",
            "dtype: object\n",
            "(200, 4)\n",
            "               TV       radio   newspaper       sales\n",
            "count  200.000000  200.000000  200.000000  200.000000\n",
            "mean   147.042500   23.264000   30.554000   14.022500\n",
            "std     85.854236   14.846809   21.778621    5.217457\n",
            "min      0.700000    0.000000    0.300000    1.600000\n",
            "25%     74.375000    9.975000   12.750000   10.375000\n",
            "50%    149.750000   22.900000   25.750000   12.900000\n",
            "75%    218.825000   36.525000   45.100000   17.400000\n",
            "max    296.400000   49.600000  114.000000   27.000000\n"
          ],
          "name": "stdout"
        }
      ]
    },
    {
      "cell_type": "code",
      "metadata": {
        "id": "uugBYQriu4S0",
        "outputId": "19a8f896-fdd6-4c3f-84c6-a0ca442df912"
      },
      "source": [
        "data.isnull().sum()"
      ],
      "execution_count": null,
      "outputs": [
        {
          "output_type": "execute_result",
          "data": {
            "text/plain": [
              "TV           0\n",
              "radio        0\n",
              "newspaper    0\n",
              "sales        0\n",
              "dtype: int64"
            ]
          },
          "metadata": {
            "tags": []
          },
          "execution_count": 4
        }
      ]
    },
    {
      "cell_type": "code",
      "metadata": {
        "scrolled": true,
        "id": "QESeNpgBu4S2",
        "outputId": "7a544238-db96-467f-c1bd-4af98fa93fa8"
      },
      "source": [
        "#Assumption 1: There should be no outliers in the data. Check using boxplot.\n",
        "for i in data.columns:\n",
        "    data.boxplot(column=i)\n",
        "    plt.show()"
      ],
      "execution_count": null,
      "outputs": [
        {
          "output_type": "display_data",
          "data": {
            "image/png": "[encoded data removed]",
            "text/plain": [
              "<Figure size 432x288 with 1 Axes>"
            ]
          },
          "metadata": {
            "tags": [],
            "needs_background": "light"
          }
        },
        {
          "output_type": "display_data",
          "data": {
            "image/png": "[encoded data removed]",
            "text/plain": [
              "<Figure size 432x288 with 1 Axes>"
            ]
          },
          "metadata": {
            "tags": [],
            "needs_background": "light"
          }
        },
        {
          "output_type": "display_data",
          "data": {
            "image/png": "[encoded data removed]",
            "text/plain": [
              "<Figure size 432x288 with 1 Axes>"
            ]
          },
          "metadata": {
            "tags": [],
            "needs_background": "light"
          }
        },
        {
          "output_type": "display_data",
          "data": {
            "image/png": "[encoded data removed]",
            "text/plain": [
              "<Figure size 432x288 with 1 Axes>"
            ]
          },
          "metadata": {
            "tags": [],
            "needs_background": "light"
          }
        }
      ]
    },
    {
      "cell_type": "code",
      "metadata": {
        "id": "oQ9sh42Eu4S4",
        "outputId": "bb66bca8-07df-4259-b326-f7e5e0af16a1"
      },
      "source": [
        "#Assumption 2:Assumption of Linearity:Every ind var should have a linear relationship with the dep var.\n",
        "plt.figure(figsize=(30,15))\n",
        "sns.pairplot(data,x_vars=data.columns[0:-1],y_vars=\"sales\",\n",
        "             kind='reg')\n",
        "plt.show()"
      ],
      "execution_count": null,
      "outputs": [
        {
          "output_type": "display_data",
          "data": {
            "text/plain": [
              "<Figure size 2160x1080 with 0 Axes>"
            ]
          },
          "metadata": {
            "tags": []
          }
        },
        {
          "output_type": "display_data",
          "data": {
            "image/png": "[encoded data removed]",
            "text/plain": [
              "<Figure size 540x180 with 3 Axes>"
            ]
          },
          "metadata": {
            "tags": [],
            "needs_background": "light"
          }
        }
      ]
    },
    {
      "cell_type": "code",
      "metadata": {
        "id": "hO2BzZvSu4S6",
        "outputId": "9ad70b51-eedd-4f23-fd04-15f5dabbc63a"
      },
      "source": [
        "data.columns[0:-1]"
      ],
      "execution_count": null,
      "outputs": [
        {
          "output_type": "execute_result",
          "data": {
            "text/plain": [
              "Index(['TV', 'radio', 'newspaper'], dtype='object')"
            ]
          },
          "metadata": {
            "tags": []
          },
          "execution_count": 7
        }
      ]
    },
    {
      "cell_type": "code",
      "metadata": {
        "id": "uy8eH1bIu4S9"
      },
      "source": [
        "# create X and Y\n",
        "X = data[['TV', 'radio', 'newspaper']]\n",
        "Y = data['sales']\n",
        "#X=data.iloc[:,0:-1]"
      ],
      "execution_count": null,
      "outputs": []
    },
    {
      "cell_type": "code",
      "metadata": {
        "id": "7KeCdQpNu4S_",
        "outputId": "ed2270ac-a242-4ce6-fb2a-2b2364327d11"
      },
      "source": [
        "#Assumption of Normality: The dependent variable should follow an approximate normal distribtion\n",
        "sns.distplot(Y,hist=True)"
      ],
      "execution_count": null,
      "outputs": [
        {
          "output_type": "execute_result",
          "data": {
            "text/plain": [
              "<matplotlib.axes._subplots.AxesSubplot at 0x1e3ee5278d0>"
            ]
          },
          "metadata": {
            "tags": []
          },
          "execution_count": 9
        },
        {
          "output_type": "display_data",
          "data": {
            "image/png": "[encoded data removed]",
            "text/plain": [
              "<Figure size 432x288 with 1 Axes>"
            ]
          },
          "metadata": {
            "tags": [],
            "needs_background": "light"
          }
        }
      ]
    },
    {
      "cell_type": "code",
      "metadata": {
        "id": "x_pLYfuEu4TB",
        "outputId": "189a1806-ac13-4c8b-f2db-2e8112ddfad6"
      },
      "source": [
        "\"\"\"\n",
        "# Log transformation\n",
        "import numpy as np\n",
        "Y_log  = np.log(Y)\n",
        "\"\"\""
      ],
      "execution_count": null,
      "outputs": [
        {
          "output_type": "execute_result",
          "data": {
            "text/plain": [
              "'\\n# Log transformation\\nimport numpy as np\\nY_log  = np.log(Y)\\n'"
            ]
          },
          "metadata": {
            "tags": []
          },
          "execution_count": 10
        }
      ]
    },
    {
      "cell_type": "code",
      "metadata": {
        "id": "yFHBr596u4TC"
      },
      "source": [
        "#sns.distplot(Y_log,hist=True)"
      ],
      "execution_count": null,
      "outputs": []
    },
    {
      "cell_type": "code",
      "metadata": {
        "id": "i9x00FjZu4TD",
        "outputId": "5694ac84-62c0-49ca-e37b-da7c2185a70c"
      },
      "source": [
        "X.hist(bins=20)"
      ],
      "execution_count": null,
      "outputs": [
        {
          "output_type": "execute_result",
          "data": {
            "text/plain": [
              "array([[<matplotlib.axes._subplots.AxesSubplot object at 0x000001E3EE458048>,\n",
              "        <matplotlib.axes._subplots.AxesSubplot object at 0x000001E3EE6452B0>],\n",
              "       [<matplotlib.axes._subplots.AxesSubplot object at 0x000001E3EE67C518>,\n",
              "        <matplotlib.axes._subplots.AxesSubplot object at 0x000001E3EE6AF780>]],\n",
              "      dtype=object)"
            ]
          },
          "metadata": {
            "tags": []
          },
          "execution_count": 12
        },
        {
          "output_type": "display_data",
          "data": {
            "image/png": "[encoded data removed]",
            "text/plain": [
              "<Figure size 432x288 with 4 Axes>"
            ]
          },
          "metadata": {
            "tags": [],
            "needs_background": "light"
          }
        }
      ]
    },
    {
      "cell_type": "code",
      "metadata": {
        "id": "H8Y4Dt71u4TE",
        "outputId": "95593525-a190-4943-d082-1e3f8b84f7ed"
      },
      "source": [
        "from scipy.stats import skew\n",
        "#finding the skewness in each variable\n",
        "data_num_skew = X.apply(lambda i: skew(i.dropna()))\n",
        "#subsetting the variables that are highly skewed\n",
        "data_num_skewed = data_num_skew[(data_num_skew > .75) | (data_num_skew < -.75)]\n",
        "\n",
        "print(data_num_skew)\n",
        "print(data_num_skewed)\n",
        "import numpy as np\n",
        "# apply log + 1 transformation for all numeric features with skewness over .75\n",
        "X[data_num_skewed.index] = np.log1p(X[data_num_skewed.index])"
      ],
      "execution_count": null,
      "outputs": [
        {
          "output_type": "stream",
          "text": [
            "TV          -0.069328\n",
            "radio        0.093467\n",
            "newspaper    0.887996\n",
            "dtype: float64\n",
            "newspaper    0.887996\n",
            "dtype: float64\n"
          ],
          "name": "stdout"
        },
        {
          "output_type": "stream",
          "text": [
            "C:\\Users\\Nikita Tandel\\Anaconda3\\lib\\site-packages\\pandas\\core\\frame.py:2963: SettingWithCopyWarning: \n",
            "A value is trying to be set on a copy of a slice from a DataFrame.\n",
            "Try using .loc[row_indexer,col_indexer] = value instead\n",
            "\n",
            "See the caveats in the documentation: https://pandas.pydata.org/pandas-docs/stable/user_guide/indexing.html#returning-a-view-versus-a-copy\n",
            "  self[k1] = value[k2]\n"
          ],
          "name": "stderr"
        }
      ]
    },
    {
      "cell_type": "code",
      "metadata": {
        "id": "_Pr7ad5eu4TF",
        "outputId": "e49b2024-f2e7-4ec1-e1e0-a09f26b9ff59"
      },
      "source": [
        "X"
      ],
      "execution_count": null,
      "outputs": [
        {
          "output_type": "execute_result",
          "data": {
            "text/html": [
              "<div>\n",
              "<style scoped>\n",
              "    .dataframe tbody tr th:only-of-type {\n",
              "        vertical-align: middle;\n",
              "    }\n",
              "\n",
              "    .dataframe tbody tr th {\n",
              "        vertical-align: top;\n",
              "    }\n",
              "\n",
              "    .dataframe thead th {\n",
              "        text-align: right;\n",
              "    }\n",
              "</style>\n",
              "<table border=\"1\" class=\"dataframe\">\n",
              "  <thead>\n",
              "    <tr style=\"text-align: right;\">\n",
              "      <th></th>\n",
              "      <th>TV</th>\n",
              "      <th>radio</th>\n",
              "      <th>newspaper</th>\n",
              "    </tr>\n",
              "  </thead>\n",
              "  <tbody>\n",
              "    <tr>\n",
              "      <th>1</th>\n",
              "      <td>230.1</td>\n",
              "      <td>37.8</td>\n",
              "      <td>4.251348</td>\n",
              "    </tr>\n",
              "    <tr>\n",
              "      <th>2</th>\n",
              "      <td>44.5</td>\n",
              "      <td>39.3</td>\n",
              "      <td>3.830813</td>\n",
              "    </tr>\n",
              "    <tr>\n",
              "      <th>3</th>\n",
              "      <td>17.2</td>\n",
              "      <td>45.9</td>\n",
              "      <td>4.252772</td>\n",
              "    </tr>\n",
              "    <tr>\n",
              "      <th>4</th>\n",
              "      <td>151.5</td>\n",
              "      <td>41.3</td>\n",
              "      <td>4.085976</td>\n",
              "    </tr>\n",
              "    <tr>\n",
              "      <th>5</th>\n",
              "      <td>180.8</td>\n",
              "      <td>10.8</td>\n",
              "      <td>4.084294</td>\n",
              "    </tr>\n",
              "    <tr>\n",
              "      <th>...</th>\n",
              "      <td>...</td>\n",
              "      <td>...</td>\n",
              "      <td>...</td>\n",
              "    </tr>\n",
              "    <tr>\n",
              "      <th>196</th>\n",
              "      <td>38.2</td>\n",
              "      <td>3.7</td>\n",
              "      <td>2.694627</td>\n",
              "    </tr>\n",
              "    <tr>\n",
              "      <th>197</th>\n",
              "      <td>94.2</td>\n",
              "      <td>4.9</td>\n",
              "      <td>2.208274</td>\n",
              "    </tr>\n",
              "    <tr>\n",
              "      <th>198</th>\n",
              "      <td>177.0</td>\n",
              "      <td>9.3</td>\n",
              "      <td>2.001480</td>\n",
              "    </tr>\n",
              "    <tr>\n",
              "      <th>199</th>\n",
              "      <td>283.6</td>\n",
              "      <td>42.0</td>\n",
              "      <td>4.207673</td>\n",
              "    </tr>\n",
              "    <tr>\n",
              "      <th>200</th>\n",
              "      <td>232.1</td>\n",
              "      <td>8.6</td>\n",
              "      <td>2.272126</td>\n",
              "    </tr>\n",
              "  </tbody>\n",
              "</table>\n",
              "<p>200 rows × 3 columns</p>\n",
              "</div>"
            ],
            "text/plain": [
              "        TV  radio  newspaper\n",
              "1    230.1   37.8   4.251348\n",
              "2     44.5   39.3   3.830813\n",
              "3     17.2   45.9   4.252772\n",
              "4    151.5   41.3   4.085976\n",
              "5    180.8   10.8   4.084294\n",
              "..     ...    ...        ...\n",
              "196   38.2    3.7   2.694627\n",
              "197   94.2    4.9   2.208274\n",
              "198  177.0    9.3   2.001480\n",
              "199  283.6   42.0   4.207673\n",
              "200  232.1    8.6   2.272126\n",
              "\n",
              "[200 rows x 3 columns]"
            ]
          },
          "metadata": {
            "tags": []
          },
          "execution_count": 14
        }
      ]
    },
    {
      "cell_type": "code",
      "metadata": {
        "id": "jAn3w_Mmu4TG",
        "outputId": "d461e907-604a-4bdc-a364-150bdb4cb6f6"
      },
      "source": [
        "#Assumption of no multicollinearity: There should be no multicolliearity between the independent variables\n",
        "corr_df=X.corr(method=\"pearson\")\n",
        "print(corr_df)\n",
        "\n",
        "sns.heatmap(corr_df,vmax=1.0,vmin=-1.0,annot=True)"
      ],
      "execution_count": null,
      "outputs": [
        {
          "output_type": "stream",
          "text": [
            "                 TV     radio  newspaper\n",
            "TV         1.000000  0.054809   0.030951\n",
            "radio      0.054809  1.000000   0.251909\n",
            "newspaper  0.030951  0.251909   1.000000\n"
          ],
          "name": "stdout"
        },
        {
          "output_type": "execute_result",
          "data": {
            "text/plain": [
              "<matplotlib.axes._subplots.AxesSubplot at 0x1e3ee43cc88>"
            ]
          },
          "metadata": {
            "tags": []
          },
          "execution_count": 15
        },
        {
          "output_type": "display_data",
          "data": {
            "image/png": "[encoded data removed]",
            "text/plain": [
              "<Figure size 432x288 with 2 Axes>"
            ]
          },
          "metadata": {
            "tags": [],
            "needs_background": "light"
          }
        }
      ]
    },
    {
      "cell_type": "code",
      "metadata": {
        "scrolled": true,
        "id": "LP7RbgJpu4TI",
        "outputId": "e48c0f08-bb30-43c1-cb74-1483da855a45"
      },
      "source": [
        "from statsmodels.stats.outliers_influence import variance_inflation_factor as vif\n",
        "\n",
        "vif_df = pd.DataFrame()\n",
        "vif_df[\"features\"] = X.columns\n",
        "vif_df[\"VIF Factor\"] = [vif(X.values, i) for i in range(X.shape[1])]\n",
        "vif_df.round(2)"
      ],
      "execution_count": null,
      "outputs": [
        {
          "output_type": "execute_result",
          "data": {
            "text/html": [
              "<div>\n",
              "<style scoped>\n",
              "    .dataframe tbody tr th:only-of-type {\n",
              "        vertical-align: middle;\n",
              "    }\n",
              "\n",
              "    .dataframe tbody tr th {\n",
              "        vertical-align: top;\n",
              "    }\n",
              "\n",
              "    .dataframe thead th {\n",
              "        text-align: right;\n",
              "    }\n",
              "</style>\n",
              "<table border=\"1\" class=\"dataframe\">\n",
              "  <thead>\n",
              "    <tr style=\"text-align: right;\">\n",
              "      <th></th>\n",
              "      <th>features</th>\n",
              "      <th>VIF Factor</th>\n",
              "    </tr>\n",
              "  </thead>\n",
              "  <tbody>\n",
              "    <tr>\n",
              "      <th>0</th>\n",
              "      <td>TV</td>\n",
              "      <td>3.39</td>\n",
              "    </tr>\n",
              "    <tr>\n",
              "      <th>1</th>\n",
              "      <td>radio</td>\n",
              "      <td>3.63</td>\n",
              "    </tr>\n",
              "    <tr>\n",
              "      <th>2</th>\n",
              "      <td>newspaper</td>\n",
              "      <td>5.44</td>\n",
              "    </tr>\n",
              "  </tbody>\n",
              "</table>\n",
              "</div>"
            ],
            "text/plain": [
              "    features  VIF Factor\n",
              "0         TV        3.39\n",
              "1      radio        3.63\n",
              "2  newspaper        5.44"
            ]
          },
          "metadata": {
            "tags": []
          },
          "execution_count": 18
        }
      ]
    },
    {
      "cell_type": "code",
      "metadata": {
        "id": "evVuuLPJu4TJ"
      },
      "source": [
        "#X.drop(\"newspaper\",axis=1,inplace=True)\n",
        "#rerun the VIF code"
      ],
      "execution_count": null,
      "outputs": []
    },
    {
      "cell_type": "code",
      "metadata": {
        "id": "ncAbQcqwu4TJ"
      },
      "source": [
        "from sklearn.model_selection import train_test_split\n",
        "\n",
        "#Split the data into test and train\n",
        "X_train, X_test, Y_train, Y_test = train_test_split(X, Y, test_size=0.2,\n",
        "                                                    random_state=10)  \n"
      ],
      "execution_count": null,
      "outputs": []
    },
    {
      "cell_type": "code",
      "metadata": {
        "collapsed": true,
        "id": "sNKjmGgwu4TM",
        "outputId": "6e7a2073-41fc-43a1-ae99-80f1f1c5401d"
      },
      "source": [
        "print(Y_train)"
      ],
      "execution_count": null,
      "outputs": [
        {
          "output_type": "stream",
          "text": [
            "191    10.8\n",
            "8      13.2\n",
            "27     15.0\n",
            "139     9.6\n",
            "59     23.8\n",
            "       ... \n",
            "114    15.9\n",
            "65     18.0\n",
            "16     22.4\n",
            "126    10.6\n",
            "10     10.6\n",
            "Name: sales, Length: 160, dtype: float64\n"
          ],
          "name": "stdout"
        }
      ]
    },
    {
      "cell_type": "code",
      "metadata": {
        "id": "1EZnTigEu4TN"
      },
      "source": [
        "#>1000-->test_size=0.3\n",
        "#<1000-->test_size=0.2"
      ],
      "execution_count": null,
      "outputs": []
    },
    {
      "cell_type": "code",
      "metadata": {
        "id": "XFrKTzswu4TN"
      },
      "source": [
        ""
      ],
      "execution_count": null,
      "outputs": []
    },
    {
      "cell_type": "code",
      "metadata": {
        "scrolled": true,
        "id": "VcAK-_Eiu4TO",
        "outputId": "95ea3922-ae19-4cea-bae7-3be304db3c07"
      },
      "source": [
        "from sklearn.linear_model import LinearRegression\n",
        "#create a model object\n",
        "lm = LinearRegression()\n",
        "#train the model object\n",
        "lm.fit(X_train,Y_train)\n",
        "\n",
        "# print intercept and coefficients\n",
        "print (lm.intercept_)\n",
        "print (lm.coef_)\n",
        "\n"
      ],
      "execution_count": null,
      "outputs": [
        {
          "output_type": "stream",
          "text": [
            "3.3532913858151527\n",
            "[ 0.0437425   0.19303708 -0.04895137]\n"
          ],
          "name": "stdout"
        }
      ]
    },
    {
      "cell_type": "code",
      "metadata": {
        "scrolled": true,
        "id": "zOh2ja2Ku4TP",
        "outputId": "35887961-5839-4894-d261-652b331317c9"
      },
      "source": [
        "# pair the feature names with the coefficients\n",
        "print(list(zip(X.columns, lm.coef_)))"
      ],
      "execution_count": null,
      "outputs": [
        {
          "output_type": "stream",
          "text": [
            "[('TV', 0.04374250157742165), ('radio', 0.19303707897345296), ('newspaper', -0.04895136822248785)]\n"
          ],
          "name": "stdout"
        }
      ]
    },
    {
      "cell_type": "code",
      "metadata": {
        "id": "JUK0jRjpu4TQ",
        "outputId": "1a53b034-3e24-46f9-89f3-fae93bba97b7"
      },
      "source": [
        "X1=100\n",
        "X2=200\n",
        "X3=0\n",
        "Y_pred=3.3532913858151474+(0.0437425 *X1)+(0.19303708*X2)+(-0.04895137*X3)\n",
        "print(Y_pred)"
      ],
      "execution_count": null,
      "outputs": [
        {
          "output_type": "stream",
          "text": [
            "46.334957385815144\n"
          ],
          "name": "stdout"
        }
      ]
    },
    {
      "cell_type": "code",
      "metadata": {
        "scrolled": true,
        "id": "itNPu_svu4TR",
        "outputId": "342415a5-0c12-4914-8332-a8adcff170ae"
      },
      "source": [
        "#predict using the model\n",
        "Y_pred=lm.predict(X_test)\n",
        "print(Y_pred)"
      ],
      "execution_count": null,
      "outputs": [
        {
          "output_type": "stream",
          "text": [
            "[18.15026866 12.96136899 18.05815332 23.66025079 20.68751041 14.26325872\n",
            " 14.92774472 21.38847375 21.14752911 12.75788534 23.99735583  7.20632737\n",
            " 12.30777109 19.22813333 19.41581583 13.44985803 19.62619644  9.24667496\n",
            " 21.1052867  20.87838433 15.52611251 10.91695579 22.82910679 15.82915597\n",
            " 17.40742204  8.17170435 11.88738387 12.69866637 21.71275044  7.94920205\n",
            " 12.49118989 20.43292079  4.71443086  4.72126238 16.7504848  15.74384945\n",
            "  6.74775596 17.73750244  9.01170001 13.60841593]\n"
          ],
          "name": "stdout"
        }
      ]
    },
    {
      "cell_type": "code",
      "metadata": {
        "id": "NfpN0c_wu4TS",
        "outputId": "f370584a-c5ce-4781-cffb-1a368c865936"
      },
      "source": [
        "lm.score(X_train, Y_train)"
      ],
      "execution_count": null,
      "outputs": [
        {
          "output_type": "execute_result",
          "data": {
            "text/plain": [
              "0.920898664750022"
            ]
          },
          "metadata": {
            "tags": []
          },
          "execution_count": 34
        }
      ]
    },
    {
      "cell_type": "code",
      "metadata": {
        "scrolled": true,
        "id": "51PGxzlUu4TT",
        "outputId": "6930a6da-ae0a-4e0e-b39a-67ae2b01c55e"
      },
      "source": [
        "new_df=pd.DataFrame()\n",
        "new_df=X_test\n",
        "\n",
        "new_df[\"Actual sales\"]=Y_test\n",
        "new_df[\"Predicted sales\"]=Y_pred\n",
        "new_df\n"
      ],
      "execution_count": null,
      "outputs": [
        {
          "output_type": "stream",
          "text": [
            "C:\\Users\\Nikita Tandel\\Anaconda3\\lib\\site-packages\\ipykernel_launcher.py:4: SettingWithCopyWarning: \n",
            "A value is trying to be set on a copy of a slice from a DataFrame.\n",
            "Try using .loc[row_indexer,col_indexer] = value instead\n",
            "\n",
            "See the caveats in the documentation: https://pandas.pydata.org/pandas-docs/stable/user_guide/indexing.html#returning-a-view-versus-a-copy\n",
            "  after removing the cwd from sys.path.\n",
            "C:\\Users\\Nikita Tandel\\Anaconda3\\lib\\site-packages\\ipykernel_launcher.py:5: SettingWithCopyWarning: \n",
            "A value is trying to be set on a copy of a slice from a DataFrame.\n",
            "Try using .loc[row_indexer,col_indexer] = value instead\n",
            "\n",
            "See the caveats in the documentation: https://pandas.pydata.org/pandas-docs/stable/user_guide/indexing.html#returning-a-view-versus-a-copy\n",
            "  \"\"\"\n"
          ],
          "name": "stderr"
        },
        {
          "output_type": "execute_result",
          "data": {
            "text/html": [
              "<div>\n",
              "<style scoped>\n",
              "    .dataframe tbody tr th:only-of-type {\n",
              "        vertical-align: middle;\n",
              "    }\n",
              "\n",
              "    .dataframe tbody tr th {\n",
              "        vertical-align: top;\n",
              "    }\n",
              "\n",
              "    .dataframe thead th {\n",
              "        text-align: right;\n",
              "    }\n",
              "</style>\n",
              "<table border=\"1\" class=\"dataframe\">\n",
              "  <thead>\n",
              "    <tr style=\"text-align: right;\">\n",
              "      <th></th>\n",
              "      <th>TV</th>\n",
              "      <th>radio</th>\n",
              "      <th>newspaper</th>\n",
              "      <th>Actual sales</th>\n",
              "      <th>Predicted sales</th>\n",
              "    </tr>\n",
              "  </thead>\n",
              "  <tbody>\n",
              "    <tr>\n",
              "      <th>60</th>\n",
              "      <td>210.7</td>\n",
              "      <td>29.5</td>\n",
              "      <td>2.332144</td>\n",
              "      <td>18.4</td>\n",
              "      <td>18.150269</td>\n",
              "    </tr>\n",
              "    <tr>\n",
              "      <th>6</th>\n",
              "      <td>8.7</td>\n",
              "      <td>48.9</td>\n",
              "      <td>4.330733</td>\n",
              "      <td>7.2</td>\n",
              "      <td>12.961369</td>\n",
              "    </tr>\n",
              "    <tr>\n",
              "      <th>21</th>\n",
              "      <td>218.4</td>\n",
              "      <td>27.7</td>\n",
              "      <td>3.996364</td>\n",
              "      <td>18.0</td>\n",
              "      <td>18.058153</td>\n",
              "    </tr>\n",
              "    <tr>\n",
              "      <th>199</th>\n",
              "      <td>283.6</td>\n",
              "      <td>42.0</td>\n",
              "      <td>4.207673</td>\n",
              "      <td>25.5</td>\n",
              "      <td>23.660251</td>\n",
              "    </tr>\n",
              "    <tr>\n",
              "      <th>53</th>\n",
              "      <td>216.4</td>\n",
              "      <td>41.7</td>\n",
              "      <td>3.703768</td>\n",
              "      <td>22.6</td>\n",
              "      <td>20.687510</td>\n",
              "    </tr>\n",
              "    <tr>\n",
              "      <th>20</th>\n",
              "      <td>147.3</td>\n",
              "      <td>23.9</td>\n",
              "      <td>3.000720</td>\n",
              "      <td>14.6</td>\n",
              "      <td>14.263259</td>\n",
              "    </tr>\n",
              "    <tr>\n",
              "      <th>163</th>\n",
              "      <td>188.4</td>\n",
              "      <td>18.1</td>\n",
              "      <td>3.280911</td>\n",
              "      <td>14.9</td>\n",
              "      <td>14.927745</td>\n",
              "    </tr>\n",
              "    <tr>\n",
              "      <th>56</th>\n",
              "      <td>198.9</td>\n",
              "      <td>49.4</td>\n",
              "      <td>4.110874</td>\n",
              "      <td>23.7</td>\n",
              "      <td>21.388474</td>\n",
              "    </tr>\n",
              "    <tr>\n",
              "      <th>70</th>\n",
              "      <td>216.8</td>\n",
              "      <td>43.9</td>\n",
              "      <td>3.339322</td>\n",
              "      <td>22.3</td>\n",
              "      <td>21.147529</td>\n",
              "    </tr>\n",
              "    <tr>\n",
              "      <th>3</th>\n",
              "      <td>17.2</td>\n",
              "      <td>45.9</td>\n",
              "      <td>4.252772</td>\n",
              "      <td>9.3</td>\n",
              "      <td>12.757885</td>\n",
              "    </tr>\n",
              "    <tr>\n",
              "      <th>99</th>\n",
              "      <td>289.7</td>\n",
              "      <td>42.3</td>\n",
              "      <td>3.955082</td>\n",
              "      <td>25.4</td>\n",
              "      <td>23.997356</td>\n",
              "    </tr>\n",
              "    <tr>\n",
              "      <th>11</th>\n",
              "      <td>66.1</td>\n",
              "      <td>5.8</td>\n",
              "      <td>3.226844</td>\n",
              "      <td>8.6</td>\n",
              "      <td>7.206327</td>\n",
              "    </tr>\n",
              "    <tr>\n",
              "      <th>76</th>\n",
              "      <td>16.9</td>\n",
              "      <td>43.7</td>\n",
              "      <td>4.504244</td>\n",
              "      <td>8.7</td>\n",
              "      <td>12.307771</td>\n",
              "    </tr>\n",
              "    <tr>\n",
              "      <th>143</th>\n",
              "      <td>220.5</td>\n",
              "      <td>33.2</td>\n",
              "      <td>3.660994</td>\n",
              "      <td>20.1</td>\n",
              "      <td>19.228133</td>\n",
              "    </tr>\n",
              "    <tr>\n",
              "      <th>125</th>\n",
              "      <td>229.5</td>\n",
              "      <td>32.3</td>\n",
              "      <td>4.320151</td>\n",
              "      <td>19.7</td>\n",
              "      <td>19.415816</td>\n",
              "    </tr>\n",
              "    <tr>\n",
              "      <th>64</th>\n",
              "      <td>102.7</td>\n",
              "      <td>29.6</td>\n",
              "      <td>2.240710</td>\n",
              "      <td>14.0</td>\n",
              "      <td>13.449858</td>\n",
              "    </tr>\n",
              "    <tr>\n",
              "      <th>110</th>\n",
              "      <td>255.4</td>\n",
              "      <td>26.9</td>\n",
              "      <td>1.871802</td>\n",
              "      <td>19.8</td>\n",
              "      <td>19.626196</td>\n",
              "    </tr>\n",
              "    <tr>\n",
              "      <th>79</th>\n",
              "      <td>5.4</td>\n",
              "      <td>29.9</td>\n",
              "      <td>2.341806</td>\n",
              "      <td>5.3</td>\n",
              "      <td>9.246675</td>\n",
              "    </tr>\n",
              "    <tr>\n",
              "      <th>112</th>\n",
              "      <td>241.7</td>\n",
              "      <td>38.0</td>\n",
              "      <td>3.186353</td>\n",
              "      <td>21.8</td>\n",
              "      <td>21.105287</td>\n",
              "    </tr>\n",
              "    <tr>\n",
              "      <th>186</th>\n",
              "      <td>205.0</td>\n",
              "      <td>45.1</td>\n",
              "      <td>3.025291</td>\n",
              "      <td>22.6</td>\n",
              "      <td>20.878384</td>\n",
              "    </tr>\n",
              "    <tr>\n",
              "      <th>155</th>\n",
              "      <td>187.8</td>\n",
              "      <td>21.1</td>\n",
              "      <td>2.351375</td>\n",
              "      <td>15.6</td>\n",
              "      <td>15.526113</td>\n",
              "    </tr>\n",
              "    <tr>\n",
              "      <th>131</th>\n",
              "      <td>0.7</td>\n",
              "      <td>39.6</td>\n",
              "      <td>2.272126</td>\n",
              "      <td>1.6</td>\n",
              "      <td>10.916956</td>\n",
              "    </tr>\n",
              "    <tr>\n",
              "      <th>62</th>\n",
              "      <td>261.3</td>\n",
              "      <td>42.7</td>\n",
              "      <td>4.019980</td>\n",
              "      <td>24.2</td>\n",
              "      <td>22.829107</td>\n",
              "    </tr>\n",
              "    <tr>\n",
              "      <th>88</th>\n",
              "      <td>110.7</td>\n",
              "      <td>40.6</td>\n",
              "      <td>4.162003</td>\n",
              "      <td>16.0</td>\n",
              "      <td>15.829156</td>\n",
              "    </tr>\n",
              "    <tr>\n",
              "      <th>103</th>\n",
              "      <td>280.2</td>\n",
              "      <td>10.1</td>\n",
              "      <td>3.109061</td>\n",
              "      <td>14.8</td>\n",
              "      <td>17.407422</td>\n",
              "    </tr>\n",
              "    <tr>\n",
              "      <th>122</th>\n",
              "      <td>18.8</td>\n",
              "      <td>21.7</td>\n",
              "      <td>3.939638</td>\n",
              "      <td>7.0</td>\n",
              "      <td>8.171704</td>\n",
              "    </tr>\n",
              "    <tr>\n",
              "      <th>137</th>\n",
              "      <td>25.6</td>\n",
              "      <td>39.0</td>\n",
              "      <td>2.332144</td>\n",
              "      <td>9.5</td>\n",
              "      <td>11.887384</td>\n",
              "    </tr>\n",
              "    <tr>\n",
              "      <th>2</th>\n",
              "      <td>44.5</td>\n",
              "      <td>39.3</td>\n",
              "      <td>3.830813</td>\n",
              "      <td>10.4</td>\n",
              "      <td>12.698666</td>\n",
              "    </tr>\n",
              "    <tr>\n",
              "      <th>48</th>\n",
              "      <td>239.9</td>\n",
              "      <td>41.5</td>\n",
              "      <td>2.970414</td>\n",
              "      <td>23.2</td>\n",
              "      <td>21.712750</td>\n",
              "    </tr>\n",
              "    <tr>\n",
              "      <th>173</th>\n",
              "      <td>19.6</td>\n",
              "      <td>20.1</td>\n",
              "      <td>2.890372</td>\n",
              "      <td>7.6</td>\n",
              "      <td>7.949202</td>\n",
              "    </tr>\n",
              "    <tr>\n",
              "      <th>160</th>\n",
              "      <td>131.7</td>\n",
              "      <td>18.4</td>\n",
              "      <td>3.572346</td>\n",
              "      <td>12.9</td>\n",
              "      <td>12.491190</td>\n",
              "    </tr>\n",
              "    <tr>\n",
              "      <th>40</th>\n",
              "      <td>228.0</td>\n",
              "      <td>37.7</td>\n",
              "      <td>3.496508</td>\n",
              "      <td>21.5</td>\n",
              "      <td>20.432921</td>\n",
              "    </tr>\n",
              "    <tr>\n",
              "      <th>77</th>\n",
              "      <td>27.5</td>\n",
              "      <td>1.6</td>\n",
              "      <td>3.077312</td>\n",
              "      <td>6.9</td>\n",
              "      <td>4.714431</td>\n",
              "    </tr>\n",
              "    <tr>\n",
              "      <th>92</th>\n",
              "      <td>28.6</td>\n",
              "      <td>1.5</td>\n",
              "      <td>3.526361</td>\n",
              "      <td>7.3</td>\n",
              "      <td>4.721262</td>\n",
              "    </tr>\n",
              "    <tr>\n",
              "      <th>36</th>\n",
              "      <td>290.7</td>\n",
              "      <td>4.1</td>\n",
              "      <td>2.251292</td>\n",
              "      <td>12.8</td>\n",
              "      <td>16.750485</td>\n",
              "    </tr>\n",
              "    <tr>\n",
              "      <th>179</th>\n",
              "      <td>276.7</td>\n",
              "      <td>2.3</td>\n",
              "      <td>3.206803</td>\n",
              "      <td>11.8</td>\n",
              "      <td>15.743849</td>\n",
              "    </tr>\n",
              "    <tr>\n",
              "      <th>128</th>\n",
              "      <td>80.2</td>\n",
              "      <td>0.0</td>\n",
              "      <td>2.322388</td>\n",
              "      <td>8.8</td>\n",
              "      <td>6.747756</td>\n",
              "    </tr>\n",
              "    <tr>\n",
              "      <th>170</th>\n",
              "      <td>284.3</td>\n",
              "      <td>10.6</td>\n",
              "      <td>2.001480</td>\n",
              "      <td>15.0</td>\n",
              "      <td>17.737502</td>\n",
              "    </tr>\n",
              "    <tr>\n",
              "      <th>47</th>\n",
              "      <td>89.7</td>\n",
              "      <td>9.9</td>\n",
              "      <td>3.602777</td>\n",
              "      <td>10.6</td>\n",
              "      <td>9.011700</td>\n",
              "    </tr>\n",
              "    <tr>\n",
              "      <th>175</th>\n",
              "      <td>222.4</td>\n",
              "      <td>3.4</td>\n",
              "      <td>2.646175</td>\n",
              "      <td>11.5</td>\n",
              "      <td>13.608416</td>\n",
              "    </tr>\n",
              "  </tbody>\n",
              "</table>\n",
              "</div>"
            ],
            "text/plain": [
              "        TV  radio  newspaper  Actual sales  Predicted sales\n",
              "60   210.7   29.5   2.332144          18.4        18.150269\n",
              "6      8.7   48.9   4.330733           7.2        12.961369\n",
              "21   218.4   27.7   3.996364          18.0        18.058153\n",
              "199  283.6   42.0   4.207673          25.5        23.660251\n",
              "53   216.4   41.7   3.703768          22.6        20.687510\n",
              "20   147.3   23.9   3.000720          14.6        14.263259\n",
              "163  188.4   18.1   3.280911          14.9        14.927745\n",
              "56   198.9   49.4   4.110874          23.7        21.388474\n",
              "70   216.8   43.9   3.339322          22.3        21.147529\n",
              "3     17.2   45.9   4.252772           9.3        12.757885\n",
              "99   289.7   42.3   3.955082          25.4        23.997356\n",
              "11    66.1    5.8   3.226844           8.6         7.206327\n",
              "76    16.9   43.7   4.504244           8.7        12.307771\n",
              "143  220.5   33.2   3.660994          20.1        19.228133\n",
              "125  229.5   32.3   4.320151          19.7        19.415816\n",
              "64   102.7   29.6   2.240710          14.0        13.449858\n",
              "110  255.4   26.9   1.871802          19.8        19.626196\n",
              "79     5.4   29.9   2.341806           5.3         9.246675\n",
              "112  241.7   38.0   3.186353          21.8        21.105287\n",
              "186  205.0   45.1   3.025291          22.6        20.878384\n",
              "155  187.8   21.1   2.351375          15.6        15.526113\n",
              "131    0.7   39.6   2.272126           1.6        10.916956\n",
              "62   261.3   42.7   4.019980          24.2        22.829107\n",
              "88   110.7   40.6   4.162003          16.0        15.829156\n",
              "103  280.2   10.1   3.109061          14.8        17.407422\n",
              "122   18.8   21.7   3.939638           7.0         8.171704\n",
              "137   25.6   39.0   2.332144           9.5        11.887384\n",
              "2     44.5   39.3   3.830813          10.4        12.698666\n",
              "48   239.9   41.5   2.970414          23.2        21.712750\n",
              "173   19.6   20.1   2.890372           7.6         7.949202\n",
              "160  131.7   18.4   3.572346          12.9        12.491190\n",
              "40   228.0   37.7   3.496508          21.5        20.432921\n",
              "77    27.5    1.6   3.077312           6.9         4.714431\n",
              "92    28.6    1.5   3.526361           7.3         4.721262\n",
              "36   290.7    4.1   2.251292          12.8        16.750485\n",
              "179  276.7    2.3   3.206803          11.8        15.743849\n",
              "128   80.2    0.0   2.322388           8.8         6.747756\n",
              "170  284.3   10.6   2.001480          15.0        17.737502\n",
              "47    89.7    9.9   3.602777          10.6         9.011700\n",
              "175  222.4    3.4   2.646175          11.5        13.608416"
            ]
          },
          "metadata": {
            "tags": []
          },
          "execution_count": 35
        }
      ]
    },
    {
      "cell_type": "code",
      "metadata": {
        "id": "BBeLPHauu4TV"
      },
      "source": [
        ""
      ],
      "execution_count": null,
      "outputs": []
    }
  ]
}